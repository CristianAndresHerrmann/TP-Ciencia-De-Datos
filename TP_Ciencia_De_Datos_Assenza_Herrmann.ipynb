{
  "nbformat": 4,
  "nbformat_minor": 0,
  "metadata": {
    "colab": {
      "provenance": [],
      "toc_visible": true
    },
    "kernelspec": {
      "name": "python3",
      "display_name": "Python 3"
    },
    "language_info": {
      "name": "python"
    }
  },
  "cells": [
    {
      "cell_type": "markdown",
      "source": [
        "#**Ciencia de Datos - Trabajo Práctico Final**\n",
        "\n",
        "Enunciado - Integrantes"
      ],
      "metadata": {
        "id": "d5jWpIZrUZS_"
      }
    },
    {
      "cell_type": "markdown",
      "source": [
        "\n",
        "\n",
        "*Integrantes:*\n",
        "\n",
        "\n",
        "*   Assenza, Micaela\n",
        "*   Herrmann Cristian\n",
        "\n",
        "\n",
        "Conjunto de datos:\n",
        "\n",
        "Para esta actividad se utilizará un dataset que incluye detalles como: sexo, edad,\n",
        "ocupación, duración del sueño, calidad del sueño, nivel de actividad física, niveles de\n",
        "estrés, categoría de IMC, presión arterial, frecuencia cardíaca, pasos diarios y presencia o\n",
        "ausencia de trastornos del sueño, en un conjunto de personas.\n",
        "\n",
        "---\n",
        "Práctica:\n",
        "\n",
        "Utilizando Python, sin recurrir a otros paquetes externos que no sean los vistos en la\n",
        "cátedra:\n",
        "\n",
        "\n",
        "1) Realizar un análisis exploratorio de datos y presentar los resultados más\n",
        "importantes.\n",
        "\n",
        "\n",
        "2) Preprocesar el conjunto de datos para que pueda utilizarse en los distintos tipos de\n",
        "modelos vistos en clase.\n",
        "Tener en cuenta si es necesario:\n",
        "- Análisis de las variables.\n",
        "- Valores erróneos/faltantes, identificación de variable objetivo.\n",
        "- Valores atípicos.\n",
        "- Correlación entre variables.\n",
        "- Procesamiento de variables categóricas.\n",
        "- Balance del conjunto de datos.\n",
        "- Normalización del conjunto de datos.\n",
        "\n",
        "\n",
        "3) Entrenar y mostrar los resultados obtenidos con al menos dos de los modelos vistos.\n",
        "Tener en cuenta:\n",
        "- División del conjunto de datos para entrenamiento y prueba.\n",
        "- Instanciación y entrenamiento de modelos.\n",
        "- Técnicas para análisis y ajuste de hiperparámetros.\n",
        "- Evaluación de modelos (Accuracy y F1-Score).\n",
        "---"
      ],
      "metadata": {
        "id": "HllVPCiP1rG8"
      }
    },
    {
      "cell_type": "markdown",
      "source": [
        "#1) Análisis exploratorio"
      ],
      "metadata": {
        "id": "wiWNzMmL2RBk"
      }
    },
    {
      "cell_type": "markdown",
      "source": [
        "##Datos"
      ],
      "metadata": {
        "id": "bUTLNU-pg2dE"
      }
    },
    {
      "cell_type": "code",
      "execution_count": null,
      "metadata": {
        "id": "DA8Es8L-1fSh"
      },
      "outputs": [],
      "source": [
        "# Hacemos importaciones necesarias\n",
        "import pandas as pd\n",
        "import numpy as np\n",
        "import matplotlib.pyplot as plt\n",
        "import seaborn as sns\n",
        "from sklearn.preprocessing import LabelEncoder"
      ]
    },
    {
      "cell_type": "code",
      "source": [
        "# Leemos el conjunto de datos\n",
        "df = pd.read_csv('sleep_dataset.csv', delimiter=';')"
      ],
      "metadata": {
        "id": "Ucxh_gKQ2rZ1"
      },
      "execution_count": null,
      "outputs": []
    },
    {
      "cell_type": "code",
      "source": [
        "# Visualizamos los primeros registros del conjunto de datos\n",
        "df.head()"
      ],
      "metadata": {
        "id": "FUCXDrmu2wyq"
      },
      "execution_count": null,
      "outputs": []
    },
    {
      "cell_type": "markdown",
      "source": [
        "Realizamos un análisis inicial viendo:\n",
        "\n",
        "*   Cantidad de registros\n",
        "*   Variables\n",
        "*   tipos\n",
        "*   etc\n"
      ],
      "metadata": {
        "id": "8R2ZpBL_46gW"
      }
    },
    {
      "cell_type": "code",
      "source": [
        "# Vemos información sobre el dataset\n",
        "df.info()"
      ],
      "metadata": {
        "id": "aFkV1Gpd4EZ3"
      },
      "execution_count": null,
      "outputs": []
    },
    {
      "cell_type": "code",
      "source": [
        "#Consultamos forma del Datasheet\n",
        "df.shape"
      ],
      "metadata": {
        "id": "97EnumW85Fih"
      },
      "execution_count": null,
      "outputs": []
    },
    {
      "cell_type": "markdown",
      "source": [
        "El data set tiene 374 registros con 13 columnas"
      ],
      "metadata": {
        "id": "X9i1rE4NEU5e"
      }
    },
    {
      "cell_type": "code",
      "source": [
        "# Vemos los nombres de las distintas columnas\n",
        "df.columns"
      ],
      "metadata": {
        "id": "hTUvAomn5sgq"
      },
      "execution_count": null,
      "outputs": []
    },
    {
      "cell_type": "code",
      "source": [
        "#Vemos medidas de tendencia central y dispersión de las variables numericas\n",
        "df.describe(include=np.number)"
      ],
      "metadata": {
        "id": "JGxJ_ylr51j0"
      },
      "execution_count": null,
      "outputs": []
    },
    {
      "cell_type": "markdown",
      "source": [
        "Si analizamos la fila de valores de 'count' podemos notar que hay valores faltantes en 'Age' y 'Heart Rate'.\n",
        "\n",
        "Tambien notamos que se incluye la columna 'Person ID' pero este campo solo es para identificar a las personas, no aporta valor en el análisis (luego se eliminará)"
      ],
      "metadata": {
        "id": "6spYoMam9f-O"
      }
    },
    {
      "cell_type": "code",
      "source": [
        "df.describe(include=object)"
      ],
      "metadata": {
        "id": "VRdPftj0DfCQ"
      },
      "execution_count": null,
      "outputs": []
    },
    {
      "cell_type": "markdown",
      "source": [
        "Vemos que la variable 'Blood Pressure' tiene muchos valores unicos, y que esta representado de la forma [Presion Sistólica]/[Presión Diastólica] por lo que proponemos crear dos columnas separando estos valores"
      ],
      "metadata": {
        "id": "1BkZQ9_oDkTR"
      }
    },
    {
      "cell_type": "code",
      "source": [
        "# Separamos estos valores de presion\n",
        "df[['Systolic Pressure', 'Diastolic Pressure']] = df['Blood Pressure'].str.split('/', expand=True)\n",
        "df['Systolic Pressure'] = pd.to_numeric(df['Systolic Pressure'])\n",
        "df['Diastolic Pressure'] = pd.to_numeric(df['Diastolic Pressure'])"
      ],
      "metadata": {
        "id": "q_lnWvF5EQl6"
      },
      "execution_count": null,
      "outputs": []
    },
    {
      "cell_type": "markdown",
      "source": [
        "Ahora procedemos a eliminar del conjunto de datos la columna 'Blood Pressure' ya que tendriamos redundancia en los datos"
      ],
      "metadata": {
        "id": "DpRXPlIiEgH9"
      }
    },
    {
      "cell_type": "code",
      "source": [
        "df = df.drop ('Blood Pressure', axis = 1)\n",
        "df"
      ],
      "metadata": {
        "id": "VVT889B7Eedi"
      },
      "execution_count": null,
      "outputs": []
    },
    {
      "cell_type": "markdown",
      "source": [
        "##Gráficos"
      ],
      "metadata": {
        "id": "NogUWrCzgnmU"
      }
    },
    {
      "cell_type": "markdown",
      "source": [
        "Vemos algunos gráficos de las variables para tener una mejor visualizacion de los datos"
      ],
      "metadata": {
        "id": "Av4-SOPUgv7O"
      }
    },
    {
      "cell_type": "code",
      "source": [
        "fig, ax = plt.subplots(6, 2)\n",
        "fig.set_figheight(15)\n",
        "fig.set_figwidth(10)\n",
        "fig.suptitle('Graficos')\n",
        "\n",
        "# Columna 'Age'\n",
        "ax[0, 0].hist(df['Age'], color='green')\n",
        "ax[0, 0].set_xlabel('Edad')\n",
        "ax[0, 0].set_ylabel('Frecuencia')\n",
        "ax[0, 0].set_title('Distribución de edad')\n",
        "\n",
        "# Columna 'Sleep Duration'\n",
        "ax[0, 1].hist(df['Sleep Duration'], color='blue')\n",
        "ax[0, 1].set_xlabel('Duracion del sueño')\n",
        "ax[0, 1].set_ylabel('Frecuencia')\n",
        "ax[0, 1].set_title('Distribución de la duracion del sueño')\n",
        "\n",
        "# Columna 'Quality of Sleep'\n",
        "# Esta columna califica la calidad del sueño (supongo que de 1 a 10)\n",
        "ax[1, 0].bar(df['Quality of Sleep'].unique(), df['Quality of Sleep'].value_counts(), color='pink')\n",
        "ax[1, 0].set_xlabel('Calidad del sueño')\n",
        "ax[1, 0].set_ylabel('Frecuencia')\n",
        "ax[1, 0].set_title('Distribución de la calidad del sueño')\n",
        "\n",
        "# Columna 'Gender'\n",
        "ax[1, 1].pie(df['Gender'].value_counts(), labels=df['Gender'].unique(), autopct='%1.1f%%')\n",
        "ax[1, 1].set_title('Distribución de genero')\n",
        "\n",
        "# Columna 'Physical Activity Level'\n",
        "ax[2,0].bar(df['Physical Activity Level'].unique(), df['Physical Activity Level'].value_counts(), color='salmon')\n",
        "ax[2,0].set_xlabel('Nivel de actividad fisica')\n",
        "ax[2,0].set_ylabel('Frecuencia')\n",
        "ax[2,0].set_title('Distribución del nivel de actividad fisica')\n",
        "\n",
        "# Columna 'Stress Level'\n",
        "ax[2,1].bar(df['Stress Level'].unique(), df['Stress Level'].value_counts(), color='orange')\n",
        "ax[2,1].set_xlabel('Nivel de estrés')\n",
        "ax[2,1].set_ylabel('Frecuencia')\n",
        "ax[2,1].set_title('Distribución del nivel de estrés')\n",
        "\n",
        "# Columna 'BMI Category'\n",
        "ax[3,0].pie(df['BMI Category'].value_counts(), labels=df['BMI Category'].unique(), autopct='%1.1f%%')\n",
        "ax[3,0].set_title('Distribución de la categoría de IMC')\n",
        "\n",
        "# Columna 'Heart Rate'\n",
        "ax[3,1].hist(df['Heart Rate'], color='red')\n",
        "ax[3,1].set_xlabel('Frecuencia cardiaca')\n",
        "ax[3,1].set_ylabel('Frecuencia')\n",
        "ax[3,1].set_title('Distribución de la frecuencia cardiaca')\n",
        "\n",
        "# Grafico de dispersion de las presiones\n",
        "ax[4,0].scatter(df['Systolic Pressure'],df['Diastolic Pressure'])\n",
        "ax[4,0].set_xlabel('Presion Sistólica')\n",
        "ax[4,0].set_ylabel('Presión Diastólica')\n",
        "ax[4,0].set_title('Distribución de la presión arterial')\n",
        "\n",
        "# Columna 'HDaily Steps'\n",
        "ax[4,1].hist(df['Daily Steps'], color='purple')\n",
        "ax[4,1].set_xlabel('Pasos diarios')\n",
        "ax[4,1].set_ylabel('Frecuencia')\n",
        "ax[4,1].set_title('Distribución de los pasos diarios')\n",
        "\n",
        "# Columna 'Sleep Disorder'\n",
        "ax[5,0].pie(df['Sleep Disorder'].value_counts(), labels=df['Sleep Disorder'].unique(), autopct='%1.1f%%')\n",
        "ax[5,0].set_title('Distribución de los trastornos del sueño')\n",
        "\n",
        "plt.tight_layout()\n",
        "plt.show()\n",
        "\n"
      ],
      "metadata": {
        "id": "LJl4zlGOhsA-"
      },
      "execution_count": null,
      "outputs": []
    },
    {
      "cell_type": "markdown",
      "source": [
        "#2) Preprocesamiento de datos"
      ],
      "metadata": {
        "id": "vAvHekHKAhbk"
      }
    },
    {
      "cell_type": "markdown",
      "source": [
        "##Analisis de las variables"
      ],
      "metadata": {
        "id": "0On03eN6sUm4"
      }
    },
    {
      "cell_type": "markdown",
      "source": [
        "Eliminamos la columna ID como propusimos anteriormente ya que no aporta información relevante al modelo"
      ],
      "metadata": {
        "id": "W_KHiNOlrEyf"
      }
    },
    {
      "cell_type": "code",
      "source": [
        "df = df.drop ('Person ID', axis = 1)\n"
      ],
      "metadata": {
        "id": "98CP9irDrIJc"
      },
      "execution_count": null,
      "outputs": []
    },
    {
      "cell_type": "code",
      "source": [
        "df.head()"
      ],
      "metadata": {
        "id": "aiDerBQHrhcp"
      },
      "execution_count": null,
      "outputs": []
    },
    {
      "cell_type": "markdown",
      "source": [
        "##Datos Faltantes"
      ],
      "metadata": {
        "id": "xpb1yREi7SpP"
      }
    },
    {
      "cell_type": "code",
      "source": [
        "df.isnull().sum()"
      ],
      "metadata": {
        "id": "7aP_03xh7zqk"
      },
      "execution_count": null,
      "outputs": []
    },
    {
      "cell_type": "markdown",
      "source": [
        "Vemos que las columnas 'Age' y 'Heart Rate' tienen valores nulos. Antes hemos calculado medidas de tendencia central de estas columnas y habíamos observado en el valor ¨count¨que había faltantes"
      ],
      "metadata": {
        "id": "q2bDzW_j8lcc"
      }
    },
    {
      "cell_type": "code",
      "source": [
        "# Analizamos las filas con valores faltantes de la columna Age\n",
        "df[pd.isnull(df.Age)]"
      ],
      "metadata": {
        "id": "B3mhIUlj-H8s"
      },
      "execution_count": null,
      "outputs": []
    },
    {
      "cell_type": "code",
      "source": [
        "# Analizamos las filas con valores faltantes de la columna Heart Rate\n",
        "df[pd.isnull(df['Heart Rate'])]"
      ],
      "metadata": {
        "id": "4YvPX9xp-Vf1"
      },
      "execution_count": null,
      "outputs": []
    },
    {
      "cell_type": "code",
      "source": [
        "# Optamos por reemplazar los valores por la media de los valores encontrados\n",
        "df.loc[pd.isnull(df.Age), 'Age'] = df[pd.notnull(df.Age)].Age.mean()\n",
        "df.loc[pd.isnull(df['Heart Rate']), 'Heart Rate'] = df[pd.notnull(df['Heart Rate'])]['Heart Rate'].mean()"
      ],
      "metadata": {
        "id": "RLNcIcI-t_yd"
      },
      "execution_count": null,
      "outputs": []
    },
    {
      "cell_type": "code",
      "source": [
        "df.isnull().sum()"
      ],
      "metadata": {
        "id": "i6j8ukha9wqY"
      },
      "execution_count": null,
      "outputs": []
    },
    {
      "cell_type": "markdown",
      "source": [
        "##Valores atípicos"
      ],
      "metadata": {
        "id": "R3ZWj6bmmACM"
      }
    },
    {
      "cell_type": "code",
      "source": [
        "## Boxplot para visualizar valores atípicos\n",
        "# Visualizamos la distribución de las distintas variables\n",
        "fig, ax = plt.subplots(figsize=(15,6))\n",
        "df.plot(kind='box', ax=ax)"
      ],
      "metadata": {
        "id": "oozWD30M-5KG"
      },
      "execution_count": null,
      "outputs": []
    },
    {
      "cell_type": "code",
      "source": [
        "#Analizamos por separado la variable que identificamos posee valores atípicos\n",
        "df['Heart Rate'].plot(kind='box')"
      ],
      "metadata": {
        "id": "Jkajr7bxAO07"
      },
      "execution_count": null,
      "outputs": []
    },
    {
      "cell_type": "markdown",
      "source": [
        "##Procesamiento de variables categóricas"
      ],
      "metadata": {
        "id": "eIKO6hZjr_kC"
      }
    },
    {
      "cell_type": "code",
      "source": [
        "#Estudiamos las variables categóricas\n",
        "df.describe(include=object)"
      ],
      "metadata": {
        "id": "yA5Y-zWj6G6g"
      },
      "execution_count": null,
      "outputs": []
    },
    {
      "cell_type": "markdown",
      "source": [
        "Utilizamos unique para conocer los valores de las variables categoricas para las columnas 'Gender', 'Occupation', 'BMI Category', 'Blood Pressire', y 'Sleep Disorder'"
      ],
      "metadata": {
        "id": "GDldYT4i60G_"
      }
    },
    {
      "cell_type": "code",
      "source": [
        "df['Gender'].unique()"
      ],
      "metadata": {
        "id": "zJ9FEhxk7Gkx"
      },
      "execution_count": null,
      "outputs": []
    },
    {
      "cell_type": "code",
      "source": [
        "df['Occupation'].unique()"
      ],
      "metadata": {
        "id": "0WTjtH_S7Knj"
      },
      "execution_count": null,
      "outputs": []
    },
    {
      "cell_type": "code",
      "source": [
        "df['BMI Category'].unique()"
      ],
      "metadata": {
        "id": "1OPyXWCZ7L0z"
      },
      "execution_count": null,
      "outputs": []
    },
    {
      "cell_type": "code",
      "source": [
        "df['Sleep Disorder'].unique()"
      ],
      "metadata": {
        "id": "B61zd4Iw7Os5"
      },
      "execution_count": null,
      "outputs": []
    },
    {
      "cell_type": "code",
      "source": [
        "# Adaptamos las variables categóricas de texto a categorías numéricas\n",
        "def label_encoding(df):\n",
        "    for col in df.columns:\n",
        "        if df[col].dtype == 'object':\n",
        "                label_encoder = LabelEncoder()\n",
        "                df[col] = label_encoder.fit_transform(df[col])\n",
        "\n",
        "label_encoding(df)"
      ],
      "metadata": {
        "id": "xS-vfincKZ7X"
      },
      "execution_count": null,
      "outputs": []
    },
    {
      "cell_type": "code",
      "source": [
        "df"
      ],
      "metadata": {
        "id": "yPg2fq6JKrij"
      },
      "execution_count": null,
      "outputs": []
    },
    {
      "cell_type": "markdown",
      "source": [
        "##Correlación entre Variables"
      ],
      "metadata": {
        "id": "aP_GmOdcmCV6"
      }
    },
    {
      "cell_type": "code",
      "source": [
        "# Calcula todos los coeficientes de correlación\n",
        "corr=df.corr(numeric_only=True)\n",
        "corr"
      ],
      "metadata": {
        "id": "ewLrpy3PmVYo"
      },
      "execution_count": null,
      "outputs": []
    },
    {
      "cell_type": "code",
      "source": [
        "# Visualizamos la matriz de correlación\n",
        "plt.figure(figsize=(12, 8))\n",
        "sns.heatmap(corr, xticklabels=corr.columns, yticklabels=corr.columns, annot=True, cmap=sns.diverging_palette(220, 20, as_cmap=True))\n",
        "plt.show()"
      ],
      "metadata": {
        "id": "mNI0ufJFmd7k"
      },
      "execution_count": null,
      "outputs": []
    },
    {
      "cell_type": "markdown",
      "source": [
        "Analizamos las gráficas de dispersión de las variables más correlacionadas"
      ],
      "metadata": {
        "id": "MzXk5XDBnYjR"
      }
    },
    {
      "cell_type": "code",
      "source": [
        "# Correlación entre Stress Level y Quality of Sleep, valor -0.90\n",
        "plt.scatter(df['Stress Level'],df['Quality of Sleep'])"
      ],
      "metadata": {
        "id": "PmEtttCEnb8K"
      },
      "execution_count": null,
      "outputs": []
    },
    {
      "cell_type": "code",
      "source": [
        "df[['Stress Level', 'Quality of Sleep']].corr()"
      ],
      "metadata": {
        "id": "fH6qBflux6az"
      },
      "execution_count": null,
      "outputs": []
    },
    {
      "cell_type": "markdown",
      "source": [
        "Comprobamos gráficamente la estrecha correlación negativa entre ambas variables"
      ],
      "metadata": {
        "id": "jIlY0kNuoE62"
      }
    },
    {
      "cell_type": "code",
      "source": [
        "# Correlación entre Sleep Duration y Quality of Sleep, valor 0.88\n",
        "plt.scatter(df['Sleep Duration'],df['Quality of Sleep'])"
      ],
      "metadata": {
        "id": "PdUALVQgnxMd"
      },
      "execution_count": null,
      "outputs": []
    },
    {
      "cell_type": "code",
      "source": [
        "df[['Sleep Duration', 'Quality of Sleep']].corr()"
      ],
      "metadata": {
        "id": "M5Y0-Gj8yBIA"
      },
      "execution_count": null,
      "outputs": []
    },
    {
      "cell_type": "markdown",
      "source": [
        "Comprobamos gráficamente la estrecha correlación positiva entre ambas variables"
      ],
      "metadata": {
        "id": "N6RVInPdoKDL"
      }
    },
    {
      "cell_type": "code",
      "source": [
        "# Correlación entre Systolic Pressure y Diastolic Pressure, valor 0.97\n",
        "plt.scatter(df['Systolic Pressure'],df['Diastolic Pressure'])"
      ],
      "metadata": {
        "id": "c-fBLxPxLWfk"
      },
      "execution_count": null,
      "outputs": []
    },
    {
      "cell_type": "code",
      "source": [
        "df[['Systolic Pressure', 'Diastolic Pressure']].corr()"
      ],
      "metadata": {
        "id": "F2olXu3xLm4t"
      },
      "execution_count": null,
      "outputs": []
    },
    {
      "cell_type": "markdown",
      "source": [
        "Comprobamos la estrecha correlacion entre las variables"
      ],
      "metadata": {
        "id": "-8EmW_sFLuE2"
      }
    },
    {
      "cell_type": "code",
      "source": [
        "# Calculamos un vector con las medias de cada columna\n",
        "column_mean = corr.mean(axis=1)\n",
        "column_mean"
      ],
      "metadata": {
        "id": "mrh7EZfj862Q"
      },
      "execution_count": null,
      "outputs": []
    },
    {
      "cell_type": "markdown",
      "source": [
        "Se propone eliminar las Columna Quality of Sleep y Diastolic Pressure"
      ],
      "metadata": {
        "id": "pJ2s5pffr27n"
      }
    },
    {
      "cell_type": "code",
      "source": [
        "df = df.drop ('Quality of Sleep', axis = 1)\n",
        "df = df.drop ('Diastolic Pressure', axis = 1)"
      ],
      "metadata": {
        "id": "miiE4j1_9Li2"
      },
      "execution_count": null,
      "outputs": []
    },
    {
      "cell_type": "code",
      "source": [
        "df.head()"
      ],
      "metadata": {
        "id": "yqudVgux9Ug5"
      },
      "execution_count": null,
      "outputs": []
    },
    {
      "cell_type": "markdown",
      "source": [
        "##Balance del conjunto de Datos\n"
      ],
      "metadata": {
        "id": "AWJVznRQmI9I"
      }
    },
    {
      "cell_type": "code",
      "source": [
        "# Visualizar el balance del dataset\n",
        "sns.countplot(x=df['Sleep Disorder'])"
      ],
      "metadata": {
        "id": "WUaWsJ_mNmug"
      },
      "execution_count": null,
      "outputs": []
    },
    {
      "cell_type": "markdown",
      "source": [
        "Como vemos la variable Sleep Disorder se encuentra desbalanceada. Optamos por utilizar OverSample para aumentar la cantidad de muestras de la clase minoritaria para alcanzar a la más abundante"
      ],
      "metadata": {
        "id": "vMNXv-90NvqW"
      }
    },
    {
      "cell_type": "code",
      "source": [
        "# Seleccionar las columnas del dataset que corresponden a las entradas del modelo y la salida esperada.\n",
        "X = df.drop('Sleep Disorder', axis=1)\n",
        "y = df['Sleep Disorder']"
      ],
      "metadata": {
        "id": "NgPMTVz-OOMn"
      },
      "execution_count": null,
      "outputs": []
    },
    {
      "cell_type": "code",
      "source": [
        "# Importar el paquete imblearn\n",
        "import imblearn\n",
        "from imblearn.over_sampling import RandomOverSampler"
      ],
      "metadata": {
        "id": "oDlsNNOYNaez"
      },
      "execution_count": null,
      "outputs": []
    },
    {
      "cell_type": "code",
      "source": [
        "# Generar un nuevos conjunto de datos balanceado por Over-sampling\n",
        "# Definimos la estrategia de Oversampling, las clases minoritaria tendrán la misma cantidad que la mayoritaria.\n",
        "oversample = RandomOverSampler(sampling_strategy='auto')"
      ],
      "metadata": {
        "id": "UBajOVr1NbJ9"
      },
      "execution_count": null,
      "outputs": []
    },
    {
      "cell_type": "code",
      "source": [
        "# Generamos el nuevo dataset balanceado\n",
        "X_over, y_over = oversample.fit_resample(X, y)"
      ],
      "metadata": {
        "id": "skQjiO14Nh-T"
      },
      "execution_count": null,
      "outputs": []
    },
    {
      "cell_type": "code",
      "source": [
        "# Visualizar el balance del dataset generado\n",
        "sns.countplot(x=y_over)"
      ],
      "metadata": {
        "id": "gHLmKBQfNlyQ"
      },
      "execution_count": null,
      "outputs": []
    },
    {
      "cell_type": "markdown",
      "source": [
        "##Normalización"
      ],
      "metadata": {
        "id": "j6-hRy6LmM4S"
      }
    },
    {
      "cell_type": "code",
      "source": [
        "# Copiar el DataSheet a otra variable\n",
        "df_normal = df.copy()\n",
        "\n",
        "# Normalizamos\n",
        "columns = ['Age', 'Occupation', 'Sleep Duration', 'Physical Activity Level', 'Stress Level', 'BMI Category', 'Heart Rate', 'Daily Steps', 'Systolic Pressure']\n",
        "for column in columns:\n",
        "    df_normal[column] = (df_normal[column] - df_normal[column].min()) / (df_normal[column].max() - df_normal[column].min())\n",
        "\n",
        "# Visualizamos la distribución nueva de las distintas variables\n",
        "fig, ax = plt.subplots(figsize=(15,6))\n",
        "df_normal.loc[:,columns].plot(kind='box', ax=ax)"
      ],
      "metadata": {
        "id": "qitDTTRsAz8M"
      },
      "execution_count": null,
      "outputs": []
    },
    {
      "cell_type": "markdown",
      "source": [
        "#3) Entrenar"
      ],
      "metadata": {
        "id": "KEcHlgaVT1ws"
      }
    },
    {
      "cell_type": "markdown",
      "source": [
        "Primeros hacemos las importaciones necesarias del paquete Scikit-Learn"
      ],
      "metadata": {
        "id": "g8iNlFZbb1ra"
      }
    },
    {
      "cell_type": "code",
      "source": [
        "# Importaciones necesarias\n",
        "from sklearn.model_selection import train_test_split\n",
        "from sklearn.preprocessing import StandardScaler\n",
        "from sklearn.metrics import accuracy_score, f1_score, confusion_matrix\n",
        "from sklearn.tree import DecisionTreeClassifier\n",
        "from sklearn.ensemble import RandomForestClassifier\n",
        "from sklearn.neighbors import KNeighborsClassifier\n",
        "from sklearn.model_selection import GridSearchCV, RandomizedSearchCV\n",
        "from sklearn.metrics import accuracy_score, f1_score, confusion_matrix, classification_report\n",
        "from sklearn.model_selection import GridSearchCV"
      ],
      "metadata": {
        "id": "UjXCuNabb9Lu"
      },
      "execution_count": null,
      "outputs": []
    },
    {
      "cell_type": "markdown",
      "source": [
        "##División del conjunto de datos para entrenamiento y prueba.\n"
      ],
      "metadata": {
        "id": "6IG21znbU2qp"
      }
    },
    {
      "cell_type": "code",
      "source": [
        "X_train, X_test, y_train, y_test = train_test_split(X_over, y_over, test_size=0.3)"
      ],
      "metadata": {
        "id": "i2MoGLtqarVa"
      },
      "execution_count": null,
      "outputs": []
    },
    {
      "cell_type": "code",
      "source": [
        "# Visualizar el resultado de la función (shape)\n",
        "print( X_train.shape, X_test.shape)\n",
        "print( y_train.shape, y_test.shape)"
      ],
      "metadata": {
        "id": "GCDjIDvTbcHl"
      },
      "execution_count": null,
      "outputs": []
    },
    {
      "cell_type": "markdown",
      "source": [
        "##Instanciación, entrenamiento del modelo y ajuste de hiperparámetros.\n"
      ],
      "metadata": {
        "id": "d9nbM9iKU5-T"
      }
    },
    {
      "cell_type": "markdown",
      "source": [
        "Utilizaremos dos modelos. Uno sera el modelo de bosques aleatorios (random forest) y otro de vecinos cercanos (KNN, k Nearest Neighbor)"
      ],
      "metadata": {
        "id": "1T28BM8FcYLq"
      }
    },
    {
      "cell_type": "markdown",
      "source": [
        "###Bosques Aleatorios"
      ],
      "metadata": {
        "id": "gBIRBUFbhc44"
      }
    },
    {
      "cell_type": "markdown",
      "source": [
        "Comenzaremos por el modelo de bosques aleatorios"
      ],
      "metadata": {
        "id": "1Ev6oCUG20fq"
      }
    },
    {
      "cell_type": "markdown",
      "source": [
        "Estableceremos una Grilla para modificar los hiperparámetros\n",
        "\n",
        "---\n",
        "\n"
      ],
      "metadata": {
        "id": "vn6uxbLD4mhs"
      }
    },
    {
      "cell_type": "code",
      "source": [
        "# Grilla para ajustar hiperparametros para los bosques aleatorios\n",
        "param_grid_rf = {\n",
        "    'n_estimators' : [100, 200, 300],\n",
        "    'max_features': [5,6,7,8],\n",
        "    'max_depth' : [2,4,5,6],\n",
        "    'random_state' : [18]\n",
        "}\n"
      ],
      "metadata": {
        "id": "_6Hzskcn4mDr"
      },
      "execution_count": null,
      "outputs": []
    },
    {
      "cell_type": "code",
      "source": [
        "model_RF = GridSearchCV(estimator=RandomForestClassifier(), param_grid=param_grid_rf, cv=5)\n",
        "model_RF.fit(X_train, y_train)"
      ],
      "metadata": {
        "id": "kEKt4KsKc4_O"
      },
      "execution_count": null,
      "outputs": []
    },
    {
      "cell_type": "code",
      "source": [
        "model_RF.best_estimator_"
      ],
      "metadata": {
        "id": "IthTpd1-8V1j"
      },
      "execution_count": null,
      "outputs": []
    },
    {
      "cell_type": "code",
      "source": [
        "model_RF_test_predict = model_RF.predict(X_test)"
      ],
      "metadata": {
        "id": "m6BYH7mT8eDQ"
      },
      "execution_count": null,
      "outputs": []
    },
    {
      "cell_type": "markdown",
      "source": [
        "####Evaluación del modelo (Accuracy y F1-Score)."
      ],
      "metadata": {
        "id": "99F3lbLHU_bF"
      }
    },
    {
      "cell_type": "code",
      "source": [
        "model_RF_train_score = model_RF.score(X_train, y_train)\n",
        "model_RF_test_score = model_RF.score(X_test, y_test)\n",
        "print(f\"Train Score: {model_RF_train_score}\")\n",
        "print(f\"Test Score: {model_RF_test_score}\")"
      ],
      "metadata": {
        "id": "VugR1Wz2Q2oM"
      },
      "execution_count": null,
      "outputs": []
    },
    {
      "cell_type": "code",
      "source": [
        "from sklearn import tree\n",
        "fig = plt.figure(figsize = (30,12))\n",
        "tree.plot_tree(model_RF.best_estimator_.estimators_[0], filled=True)\n",
        "plt.show()"
      ],
      "metadata": {
        "id": "JuqlhgA-Urdi"
      },
      "execution_count": null,
      "outputs": []
    },
    {
      "cell_type": "code",
      "source": [
        "print(classification_report(y_test, model_RF_test_predict))"
      ],
      "metadata": {
        "id": "BMvHbcGU7-Y4"
      },
      "execution_count": null,
      "outputs": []
    },
    {
      "cell_type": "code",
      "source": [
        "# Matriz de confusion\n",
        "confusion_matrix(y_test, model_RF_test_predict)"
      ],
      "metadata": {
        "id": "yt8DrNxsI7d5"
      },
      "execution_count": null,
      "outputs": []
    },
    {
      "cell_type": "code",
      "source": [
        "# Generamos graficamente la matriz de confusión\n",
        "cm = confusion_matrix(y_test, model_RF_test_predict)\n",
        "class_names = ['Normal', 'Sleep Apnea', 'Insomnio']\n",
        "\n",
        "# Creamos un gráfico de calor (heatmap) con Seaborn\n",
        "plt.figure(figsize=(8, 6))\n",
        "sns.heatmap(cm, annot=True, fmt='d', cmap='Blues', xticklabels=class_names, yticklabels=class_names)\n",
        "\n",
        "# Configuramos el título y los ejes\n",
        "plt.title('Matriz de Confusión - Bosques Aleatorios')\n",
        "plt.xlabel('Clase Predicha')\n",
        "plt.ylabel('Clase Real')\n",
        "plt.show()"
      ],
      "metadata": {
        "id": "DW1VTRe8mXak"
      },
      "execution_count": null,
      "outputs": []
    },
    {
      "cell_type": "markdown",
      "source": [
        "###Modelo KNN"
      ],
      "metadata": {
        "id": "hpnAvAPJ9Z6D"
      }
    },
    {
      "cell_type": "markdown",
      "source": [
        "Crearemos una grilla para el modelo KNN modificando el valor de los vecinos"
      ],
      "metadata": {
        "id": "uflNnnst96r4"
      }
    },
    {
      "cell_type": "code",
      "source": [
        "knn_param_grid = {'n_neighbors': [3, 5, 7, 9]}"
      ],
      "metadata": {
        "id": "Fu1ywNFQ90nJ"
      },
      "execution_count": null,
      "outputs": []
    },
    {
      "cell_type": "code",
      "source": [
        "model_KNN = GridSearchCV(estimator=KNeighborsClassifier(), param_grid=knn_param_grid)\n",
        "model_KNN.fit(X_train, y_train)"
      ],
      "metadata": {
        "id": "t_kXJBTD9dsm"
      },
      "execution_count": null,
      "outputs": []
    },
    {
      "cell_type": "code",
      "source": [
        "model_KNN.best_estimator_"
      ],
      "metadata": {
        "id": "LXZqXWLK-9s_"
      },
      "execution_count": null,
      "outputs": []
    },
    {
      "cell_type": "code",
      "source": [
        "model_KNN_Test_Predict = model_KNN.predict(X_test)"
      ],
      "metadata": {
        "id": "IeFlknI5JjrT"
      },
      "execution_count": null,
      "outputs": []
    },
    {
      "cell_type": "markdown",
      "source": [
        "####Evaluación del modelo (Accuracy y F1-Score)."
      ],
      "metadata": {
        "id": "yIeHrXYMRL_U"
      }
    },
    {
      "cell_type": "code",
      "source": [
        "model_KNN_train_score = model_KNN.score(X_train, y_train)\n",
        "model_KNN_test_score = model_KNN.score(X_test, y_test)\n",
        "print(f\"Train Score: {model_KNN_train_score}\")\n",
        "print(f\"Test Score: {model_KNN_test_score}\")"
      ],
      "metadata": {
        "id": "lfJwIV80RSWK"
      },
      "execution_count": null,
      "outputs": []
    },
    {
      "cell_type": "code",
      "source": [
        "print(classification_report(y_test, model_KNN_Test_Predict))"
      ],
      "metadata": {
        "id": "zT-qSdxd_DuK"
      },
      "execution_count": null,
      "outputs": []
    },
    {
      "cell_type": "code",
      "source": [
        "confusion_matrix(y_test, model_KNN_Test_Predict)"
      ],
      "metadata": {
        "id": "bxawY9NbTImb"
      },
      "execution_count": null,
      "outputs": []
    },
    {
      "cell_type": "code",
      "source": [
        "# Generamos graficamente la matriz de confusión\n",
        "cm = confusion_matrix(y_test, model_KNN_Test_Predict)\n",
        "class_names = ['Normal', 'Sleep Apnea', 'Insomnio']\n",
        "\n",
        "# Creamos un gráfico de calor (heatmap) con Seaborn\n",
        "plt.figure(figsize=(8, 6))\n",
        "sns.heatmap(cm, annot=True, fmt='d', cmap='Blues', xticklabels=class_names, yticklabels=class_names)\n",
        "\n",
        "# Configuramos el título y los ejes\n",
        "plt.title('Matriz de Confusión - KNN')\n",
        "plt.xlabel('Clase Predicha')\n",
        "plt.ylabel('Clase Real')\n",
        "plt.show()"
      ],
      "metadata": {
        "id": "DXUzUxKUkylp"
      },
      "execution_count": null,
      "outputs": []
    }
  ]
}